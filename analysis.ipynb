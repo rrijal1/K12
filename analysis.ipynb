{
 "cells": [
  {
   "cell_type": "markdown",
   "metadata": {},
   "source": [
    "### Importing helper functions, modules, and data\n",
    "\n",
    "Load the helper functions and the data."
   ]
  },
  {
   "cell_type": "code",
   "execution_count": 1,
   "metadata": {},
   "outputs": [],
   "source": [
    "from components import load_parquet_data\n",
    "import pandas as pd\n",
    "import numpy as np"
   ]
  },
  {
   "cell_type": "markdown",
   "metadata": {},
   "source": [
    "### Importing the Data"
   ]
  },
  {
   "cell_type": "markdown",
   "metadata": {},
   "source": [
    "### Exploring the language specific data"
   ]
  },
  {
   "cell_type": "code",
   "execution_count": 2,
   "metadata": {},
   "outputs": [
    {
     "data": {
      "text/html": [
       "<div>\n",
       "<style scoped>\n",
       "    .dataframe tbody tr th:only-of-type {\n",
       "        vertical-align: middle;\n",
       "    }\n",
       "\n",
       "    .dataframe tbody tr th {\n",
       "        vertical-align: top;\n",
       "    }\n",
       "\n",
       "    .dataframe thead th {\n",
       "        text-align: right;\n",
       "    }\n",
       "</style>\n",
       "<table border=\"1\" class=\"dataframe\">\n",
       "  <thead>\n",
       "    <tr style=\"text-align: right;\">\n",
       "      <th></th>\n",
       "      <th>topic_id</th>\n",
       "      <th>content_ids</th>\n",
       "    </tr>\n",
       "  </thead>\n",
       "  <tbody>\n",
       "    <tr>\n",
       "      <th>0</th>\n",
       "      <td>t_00004da3a1b2</td>\n",
       "      <td>c_1108dd0c7a5d c_376c5a8eb028 c_5bc0e1e2cba0 c...</td>\n",
       "    </tr>\n",
       "    <tr>\n",
       "      <th>1</th>\n",
       "      <td>t_00068291e9a4</td>\n",
       "      <td>c_639ea2ef9c95 c_89ce9367be10 c_ac1672cdcd2c c...</td>\n",
       "    </tr>\n",
       "    <tr>\n",
       "      <th>2</th>\n",
       "      <td>t_00069b63a70a</td>\n",
       "      <td>c_11a1dc0bfb99</td>\n",
       "    </tr>\n",
       "    <tr>\n",
       "      <th>3</th>\n",
       "      <td>t_0006d41a73a8</td>\n",
       "      <td>c_0c6473c3480d c_1c57a1316568 c_5e375cf14c47 c...</td>\n",
       "    </tr>\n",
       "    <tr>\n",
       "      <th>4</th>\n",
       "      <td>t_0008768bdee6</td>\n",
       "      <td>c_34e1424229b4 c_7d1a964d66d5 c_aab93ee667f4</td>\n",
       "    </tr>\n",
       "    <tr>\n",
       "      <th>...</th>\n",
       "      <td>...</td>\n",
       "      <td>...</td>\n",
       "    </tr>\n",
       "    <tr>\n",
       "      <th>95</th>\n",
       "      <td>t_00703e555d28</td>\n",
       "      <td>c_3fe13ff4b47f c_8d897997b1b7 c_a223a6d099e0 c...</td>\n",
       "    </tr>\n",
       "    <tr>\n",
       "      <th>96</th>\n",
       "      <td>t_00764f7c9394</td>\n",
       "      <td>c_0c298c9fb121 c_1d93f4a9aa15 c_24839b8434d7 c...</td>\n",
       "    </tr>\n",
       "    <tr>\n",
       "      <th>97</th>\n",
       "      <td>t_007973177106</td>\n",
       "      <td>c_4fb17d71ae87 c_d1a3481c3ce3 c_e2bfed90d2cf c...</td>\n",
       "    </tr>\n",
       "    <tr>\n",
       "      <th>98</th>\n",
       "      <td>t_0079b3319fb5</td>\n",
       "      <td>c_3c105d8e600c c_7dd250694a6f c_7e44fda51c46 c...</td>\n",
       "    </tr>\n",
       "    <tr>\n",
       "      <th>99</th>\n",
       "      <td>t_007a41ee336d</td>\n",
       "      <td>c_1ae8805d8fe1</td>\n",
       "    </tr>\n",
       "  </tbody>\n",
       "</table>\n",
       "<p>100 rows × 2 columns</p>\n",
       "</div>"
      ],
      "text/plain": [
       "          topic_id                                        content_ids\n",
       "0   t_00004da3a1b2  c_1108dd0c7a5d c_376c5a8eb028 c_5bc0e1e2cba0 c...\n",
       "1   t_00068291e9a4  c_639ea2ef9c95 c_89ce9367be10 c_ac1672cdcd2c c...\n",
       "2   t_00069b63a70a                                     c_11a1dc0bfb99\n",
       "3   t_0006d41a73a8  c_0c6473c3480d c_1c57a1316568 c_5e375cf14c47 c...\n",
       "4   t_0008768bdee6       c_34e1424229b4 c_7d1a964d66d5 c_aab93ee667f4\n",
       "..             ...                                                ...\n",
       "95  t_00703e555d28  c_3fe13ff4b47f c_8d897997b1b7 c_a223a6d099e0 c...\n",
       "96  t_00764f7c9394  c_0c298c9fb121 c_1d93f4a9aa15 c_24839b8434d7 c...\n",
       "97  t_007973177106  c_4fb17d71ae87 c_d1a3481c3ce3 c_e2bfed90d2cf c...\n",
       "98  t_0079b3319fb5  c_3c105d8e600c c_7dd250694a6f c_7e44fda51c46 c...\n",
       "99  t_007a41ee336d                                     c_1ae8805d8fe1\n",
       "\n",
       "[100 rows x 2 columns]"
      ]
     },
     "execution_count": 2,
     "metadata": {},
     "output_type": "execute_result"
    }
   ],
   "source": [
    "# print(\"All Unique Languages\", content['language'].unique())\n",
    "\n",
    "# df = content[content['language'] == 'ur']\n",
    "# df.head(100)\n",
    "\n",
    "correlations = load_parquet_data(\"input/correlations.parquet\")\n",
    "correlations.head(100)\n",
    "\n",
    "# topics = load_parquet_data(\"input/topics.parquet\")\n",
    "# topics[topics['language'] == 'en'].head(100)"
   ]
  },
  {
   "cell_type": "markdown",
   "metadata": {},
   "source": [
    "### Exploratory Data Analysis "
   ]
  },
  {
   "cell_type": "code",
   "execution_count": 3,
   "metadata": {},
   "outputs": [],
   "source": [
    "import matplotlib.pyplot as plt\n",
    "import numpy as np\n",
    "import pandas as pd\n",
    "\n",
    "from IPython.display import display, Markdown\n",
    "from pathlib import Path\n",
    "\n",
    "current_path = Path.cwd()\n",
    "\n",
    "# Various directories\n",
    "\n",
    "data_dir = current_path / \"input\"\n",
    "output_dir = current_path / \"output\""
   ]
  },
  {
   "cell_type": "markdown",
   "metadata": {},
   "source": [
    "### Load the data"
   ]
  },
  {
   "cell_type": "code",
   "execution_count": 4,
   "metadata": {},
   "outputs": [],
   "source": [
    "# load the data into pandas dataframes\n",
    "# topics_df = pd.read_csv(data_dir / \"topics.csv\", index_col=0).fillna({\"title\": \"\", \"description\": \"\"})\n",
    "# content_df = pd.read_csv(data_dir / \"content.csv\", index_col=0).fillna(\"\")\n",
    "# correlations_df = pd.read_csv(data_dir / \"correlations.csv\", index_col=0)\n",
    "\n",
    "topics_df = load_parquet_data(data_dir/'topics.parquet')\n",
    "topics_df.index_col = 0\n",
    "topics_df = topics_df.fillna({\"title\": \"\", \"description\": \"\"})\n",
    "\n",
    "# Content is stored as a string of comma separated values\n",
    "\n",
    "content_df = load_parquet_data(data_dir/'content.parquet')\n",
    "content_df.index_col = 0\n",
    "content_df = content_df.fillna(\"\")\n",
    "\n",
    "# Correlations are stored as a string of comma separated values\n",
    "\n",
    "correlations_df = load_parquet_data(data_dir/'correlations.parquet')\n",
    "correlations_df.index_col = 0\n"
   ]
  },
  {
   "cell_type": "code",
   "execution_count": 5,
   "metadata": {},
   "outputs": [
    {
     "data": {
      "text/plain": [
       "id             465\n",
       "title          390\n",
       "description    153\n",
       "channel         90\n",
       "category         3\n",
       "level            1\n",
       "language         1\n",
       "parent          90\n",
       "has_content      2\n",
       "dtype: int64"
      ]
     },
     "execution_count": 5,
     "metadata": {},
     "output_type": "execute_result"
    }
   ],
   "source": [
    "## select only english topics and level 0\n",
    "## also count unique topics\n",
    "\n",
    "topics_df[(topics_df.language == \"en\") & (topics_df.level == 1)].nunique()\n",
    "\n"
   ]
  },
  {
   "cell_type": "markdown",
   "metadata": {},
   "source": [
    "### Work with 10% of the data"
   ]
  },
  {
   "cell_type": "code",
   "execution_count": 6,
   "metadata": {},
   "outputs": [
    {
     "data": {
      "image/png": "[encoded data removed]",
      "text/plain": [
       "<Figure size 640x480 with 1 Axes>"
      ]
     },
     "metadata": {},
     "output_type": "display_data"
    }
   ],
   "source": [
    "# show a random sample of the content from the content dataframe\n",
    "content_df.sample(frac=1).head(10)\n",
    "topics_df.sample(frac=1).head(10)\n",
    "\n",
    "# top languages by number of topics\n",
    "topics_df.language.value_counts().sort_values(ascending=False).head(10)\n",
    "\n",
    "# top languages by number of content items\n",
    "content_df.language.value_counts().sort_values(ascending=False).head(10)\n",
    "\n",
    "# numbers of different types of content\n",
    "content_df.kind.value_counts().sort_values(ascending=False).head(10)\n",
    "\n",
    "# sizes of different channels (in terms of numbers of topics)\n",
    "plt.hist(topics_df.channel.value_counts(), bins=100)\n",
    "plt.show()\n"
   ]
  },
  {
   "cell_type": "markdown",
   "metadata": {},
   "source": [
    "### Helper Functions"
   ]
  },
  {
   "cell_type": "code",
   "execution_count": 7,
   "metadata": {},
   "outputs": [],
   "source": [
    "# define some helper functions and classes to aid with data traversal\n",
    "\n",
    "def print_markdown(md):\n",
    "    display(Markdown(md))\n",
    "\n",
    "class Topic:\n",
    "    def __init__(self, topic_id):\n",
    "        self.id = topic_id\n",
    "\n",
    "    @property\n",
    "    def parent(self):\n",
    "        parent_id = topics_df.loc[self.id].parent\n",
    "        if pd.isna(parent_id):\n",
    "            return None\n",
    "        else:\n",
    "            return Topic(parent_id)\n",
    "\n",
    "    @property\n",
    "    def ancestors(self):\n",
    "        ancestors = []\n",
    "        parent = self.parent\n",
    "        while parent is not None:\n",
    "            ancestors.append(parent)\n",
    "            parent = parent.parent\n",
    "        return ancestors\n",
    "\n",
    "    @property\n",
    "    def siblings(self):\n",
    "        if not self.parent:\n",
    "            return []\n",
    "        else:\n",
    "            return [topic for topic in self.parent.children if topic != self]\n",
    "\n",
    "    @property\n",
    "    def content(self):\n",
    "        if self.id in correlations_df.index:\n",
    "            return [ContentItem(content_id) for content_id in correlations_df.loc[self.id].content_ids.split()]\n",
    "        else:\n",
    "            return tuple([]) if self.has_content else []\n",
    "\n",
    "    def get_breadcrumbs(self, separator=\" >> \", include_self=True, include_root=True):\n",
    "        ancestors = self.ancestors\n",
    "        if include_self:\n",
    "            ancestors = [self] + ancestors\n",
    "        if not include_root:\n",
    "            ancestors = ancestors[:-1]\n",
    "        return separator.join(reversed([a.title for a in ancestors]))\n",
    "\n",
    "    @property\n",
    "    def children(self):\n",
    "        return [Topic(child_id) for child_id in topics_df[topics_df.parent == self.id].index]\n",
    "\n",
    "    def subtree_markdown(self, depth=0):\n",
    "        markdown = \"  \" * depth + \"- \" + self.title + \"\\n\"\n",
    "        for child in self.children:\n",
    "            markdown += child.subtree_markdown(depth=depth + 1)\n",
    "        for content in self.content:\n",
    "            markdown += (\"  \" * (depth + 1) + \"- \" + \"[\" + content.kind.title() + \"] \" + content.title) + \"\\n\"\n",
    "        return markdown\n",
    "\n",
    "    def __eq__(self, other):\n",
    "        if not isinstance(other, Topic):\n",
    "            return False\n",
    "        return self.id == other.id\n",
    "\n",
    "    def __getattr__(self, name):\n",
    "        return topics_df.loc[self.id][name]\n",
    "\n",
    "    def __str__(self):\n",
    "        return self.title\n",
    "    \n",
    "    def __repr__(self):\n",
    "        return f\"<Topic(id={self.id}, title=\\\"{self.title}\\\")>\"\n",
    "\n",
    "\n",
    "class ContentItem:\n",
    "    def __init__(self, content_id):\n",
    "        self.id = content_id\n",
    "\n",
    "    @property\n",
    "    def topics(self):\n",
    "        return [Topic(topic_id) for topic_id in topics_df.loc[correlations_df[correlations_df.content_ids.str.contains(self.id)].index].index]\n",
    "\n",
    "    def __getattr__(self, name):\n",
    "        return content_df.loc[self.id][name]\n",
    "\n",
    "    def __str__(self):\n",
    "        return self.title\n",
    "    \n",
    "    def __repr__(self):\n",
    "        return f\"<ContentItem(id={self.id}, title=\\\"{self.title}\\\")>\"\n",
    "\n",
    "    def __eq__(self, other):\n",
    "        if not isinstance(other, ContentItem):\n",
    "            return False\n",
    "        return self.id == other.id\n",
    "\n",
    "    def get_all_breadcrumbs(self, separator=\" >> \", include_root=True):\n",
    "        breadcrumbs = []\n",
    "        for topic in self.topics:\n",
    "            new_breadcrumb = topic.get_breadcrumbs(separator=separator, include_root=include_root)\n",
    "            if new_breadcrumb:\n",
    "                new_breadcrumb = new_breadcrumb + separator + self.title\n",
    "            else:\n",
    "                new_breadcrumb = self.title\n",
    "            breadcrumbs.append(new_breadcrumb)\n",
    "        return breadcrumbs\n",
    "\n"
   ]
  },
  {
   "cell_type": "markdown",
   "metadata": {},
   "source": [
    "### Tree Structures"
   ]
  },
  {
   "cell_type": "code",
   "execution_count": 9,
   "metadata": {},
   "outputs": [
    {
     "data": {
      "text/plain": [
       "count    61517.000000\n",
       "mean         4.550271\n",
       "std          6.700255\n",
       "min          1.000000\n",
       "25%          2.000000\n",
       "50%          3.000000\n",
       "75%          5.000000\n",
       "max        293.000000\n",
       "dtype: float64"
      ]
     },
     "execution_count": 9,
     "metadata": {},
     "output_type": "execute_result"
    },
    {
     "data": {
      "image/png": "[encoded data removed]",
      "text/plain": [
       "<Figure size 640x480 with 1 Axes>"
      ]
     },
     "metadata": {},
     "output_type": "display_data"
    }
   ],
   "source": [
    "# how many content items are correlated with each topic?\n",
    "content_per_topic = pd.Series([len(cids.split()) for cids in correlations_df.content_ids])\n",
    "content_per_topic[content_per_topic < 40].hist(bins=40)\n",
    "content_per_topic.describe()"
   ]
  }
 ],
 "metadata": {
  "kernelspec": {
   "display_name": "Python 3.9.15 ('kaggle')",
   "language": "python",
   "name": "python3"
  },
  "language_info": {
   "codemirror_mode": {
    "name": "ipython",
    "version": 3
   },
   "file_extension": ".py",
   "mimetype": "text/x-python",
   "name": "python",
   "nbconvert_exporter": "python",
   "pygments_lexer": "ipython3",
   "version": "3.9.15"
  },
  "orig_nbformat": 4,
  "vscode": {
   "interpreter": {
    "hash": "fa944fbc5790b1624cbdd552eb6ddf10d75b6385bf05a84312893aae510d3065"
   }
  }
 },
 "nbformat": 4,
 "nbformat_minor": 2
}
